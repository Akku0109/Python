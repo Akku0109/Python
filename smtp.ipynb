{
 "cells": [
  {
   "cell_type": "code",
   "execution_count": 12,
   "metadata": {},
   "outputs": [
    {
     "name": "stdout",
     "output_type": "stream",
     "text": [
      "(535, b'5.7.8 Username and Password not accepted. For more information, go to\\n5.7.8  https://support.google.com/mail/?p=BadCredentials d13-20020a170902cecd00b001eb7483a002sm5388964plg.209 - gsmtp')\n"
     ]
    }
   ],
   "source": [
    "import smtplib #simple mail transfer protocol library\n",
    "try:\n",
    "    server=smtplib.SMTP(host='smtp.gmail.com',port=587)\n",
    "    server.starttls()\n",
    "    sender_email=\"smartengineer0786@gmail.com\"\n",
    "    sender_pass=\"ojsk kz tvkc\"\n",
    "\n",
    "    receiver_email=input(\"plz enter receiver email: \")\n",
    "    subject=input(\"plz enter subject: \")\n",
    "    body=input(\"plz write your message: \")\n",
    "\n",
    "    server.login(sender_email,password=sender_pass)\n",
    "\n",
    "    message=f\"Subject:{subject}\\n\\n{body}\"\n",
    "    server.sendmail(sender_email,receiver_email,message)\n",
    "\n",
    "    print(\"email successfully sent\")\n",
    "    server.quit()\n",
    "except Exception as e:\n",
    "    print(e)"
   ]
  }
 ],
 "metadata": {
  "kernelspec": {
   "display_name": "Python 3",
   "language": "python",
   "name": "python3"
  },
  "language_info": {
   "codemirror_mode": {
    "name": "ipython",
    "version": 3
   },
   "file_extension": ".py",
   "mimetype": "text/x-python",
   "name": "python",
   "nbconvert_exporter": "python",
   "pygments_lexer": "ipython3",
   "version": "3.11.5"
  }
 },
 "nbformat": 4,
 "nbformat_minor": 2
}
